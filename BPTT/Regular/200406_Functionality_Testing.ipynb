{
 "cells": [
  {
   "cell_type": "code",
   "execution_count": 2,
   "metadata": {},
   "outputs": [
    {
     "name": "stdout",
     "output_type": "stream",
     "text": [
      "The autoreload extension is already loaded. To reload it, use:\n",
      "  %reload_ext autoreload\n"
     ]
    }
   ],
   "source": [
    "%load_ext autoreload\n",
    "\n",
    "import torch\n",
    "import time\n",
    "from torch.autograd import Variable\n",
    "from torch.nn import ReLU\n",
    "import numpy as np\n",
    "from numpy import matlib as mb\n",
    "import matplotlib.pyplot as plt\n",
    "import scipy.io\n",
    "from scipy.sparse import random as sprand\n",
    "from scipy import stats\n",
    "#%matplotlib qt\n",
    "import matplotlib.cm as cm\n",
    "from matplotlib.colors import Normalize, ListedColormap\n",
    "# import dill\n",
    "import os\n",
    "from imageio import imread, imwrite\n",
    "from torch.nn import ReLU\n",
    "from sklearn.decomposition import PCA\n",
    "\n",
    "import pandas as pd\n",
    "import seaborn as sns\n",
    "\n",
    "%matplotlib qt\n",
    "ReLu = ReLU()"
   ]
  },
  {
   "cell_type": "code",
   "execution_count": 26,
   "metadata": {},
   "outputs": [],
   "source": [
    "%autoreload\n",
    "from srnn_helpers import *"
   ]
  },
  {
   "cell_type": "code",
   "execution_count": 62,
   "metadata": {},
   "outputs": [
    {
     "name": "stdout",
     "output_type": "stream",
     "text": [
      "torch.Size([3, 7, 5])\n",
      "torch.Size([7, 5])\n"
     ]
    }
   ],
   "source": [
    "temp = torch.randn(3,7,5)\n",
    "print(temp.shape)\n",
    "print(temp[-1].shape)"
   ]
  },
  {
   "cell_type": "code",
   "execution_count": null,
   "metadata": {},
   "outputs": [],
   "source": []
  },
  {
   "cell_type": "code",
   "execution_count": null,
   "metadata": {},
   "outputs": [],
   "source": []
  },
  {
   "cell_type": "code",
   "execution_count": 53,
   "metadata": {},
   "outputs": [
    {
     "name": "stdout",
     "output_type": "stream",
     "text": [
      "y\n"
     ]
    }
   ],
   "source": [
    "if 'a' or 'b' in ['bala','ab','ca','ac']:\n",
    "    print('y')"
   ]
  },
  {
   "cell_type": "code",
   "execution_count": 54,
   "metadata": {},
   "outputs": [
    {
     "ename": "SyntaxError",
     "evalue": "invalid syntax (<ipython-input-54-cacbfa97cbbc>, line 1)",
     "output_type": "error",
     "traceback": [
      "\u001b[0;36m  File \u001b[0;32m\"<ipython-input-54-cacbfa97cbbc>\"\u001b[0;36m, line \u001b[0;32m1\u001b[0m\n\u001b[0;31m    if 1<0 or 1.0000000000001>1: print('yes') else: print'n'\u001b[0m\n\u001b[0m                                                 ^\u001b[0m\n\u001b[0;31mSyntaxError\u001b[0m\u001b[0;31m:\u001b[0m invalid syntax\n"
     ]
    }
   ],
   "source": [
    "if 1<0 or 1.0000000000001>1: print('yes') else: print'n'"
   ]
  },
  {
   "cell_type": "code",
   "execution_count": null,
   "metadata": {},
   "outputs": [],
   "source": []
  },
  {
   "cell_type": "code",
   "execution_count": 24,
   "metadata": {},
   "outputs": [
    {
     "name": "stdout",
     "output_type": "stream",
     "text": [
      "tensor([0.0000, 1.4656, 0.0000, 1.2141, 0.0000, 0.7130, 1.8557, 0.0000, 0.0000,\n",
      "        0.0000, 0.1396, 0.0000, 0.0000, 1.1261, 0.0000, 1.1294, 0.0000, 0.0000,\n",
      "        2.0000, 0.1713, 0.1282, 0.0000, 0.0000, 0.0000, 0.6891, 1.4334, 0.4791,\n",
      "        1.0696, 0.0000, 1.8816, 1.2357, 0.6507, 0.0226, 0.0000, 1.8407, 1.5433,\n",
      "        0.0000, 0.0139, 0.0000, 0.0566, 0.8225, 0.0000, 1.4207, 0.0000, 0.3394,\n",
      "        0.0000, 2.0000, 0.2481, 0.2848, 1.9109, 0.9505, 0.0000, 1.3766, 0.7385,\n",
      "        0.2213, 0.4994, 1.1024, 0.8361, 0.0954, 0.0000, 0.0000, 0.0348, 0.0000,\n",
      "        0.0000, 1.7365, 0.0000, 0.0000, 0.0254, 0.5498, 0.0000, 0.0000, 0.1257,\n",
      "        0.0000, 0.0000, 0.0000, 0.0000, 0.0000, 0.9719, 0.7792, 0.0000, 0.0000,\n",
      "        0.0000, 1.7349, 0.4600, 0.0000, 0.9821, 1.5700, 0.4144, 0.3566, 0.0000,\n",
      "        0.0000, 0.3708, 0.0000, 1.3348, 0.0000, 1.0124, 0.0000, 0.0000, 1.2459,\n",
      "        0.2460])\n"
     ]
    }
   ],
   "source": [
    "a = torch.randn(100)\n",
    "print(torch.min(torch.pow(ReLu(a),1),torch.tensor(2.)))"
   ]
  },
  {
   "cell_type": "code",
   "execution_count": null,
   "metadata": {},
   "outputs": [],
   "source": []
  },
  {
   "cell_type": "code",
   "execution_count": null,
   "metadata": {},
   "outputs": [],
   "source": []
  },
  {
   "cell_type": "code",
   "execution_count": null,
   "metadata": {},
   "outputs": [],
   "source": []
  },
  {
   "cell_type": "code",
   "execution_count": 3,
   "metadata": {},
   "outputs": [],
   "source": [
    "r = np.random.randn(21, 100)/5\n",
    "r[:,50:] +=1\n",
    "l = -np.ones([1,100])\n",
    "l[:,50:] = 1\n",
    "\n",
    "r_df = pd.DataFrame(r).stack().to_frame(name='readout_activity')\n",
    "r_df = r_df.reset_index()\n",
    "r_df['level_1'] = r_df['level_1'].map(lambda x: l[0,x])\n",
    "r_df = r_df.rename(columns={'level_0':'Time Steps', 'level_1':'Pattern Label'})"
   ]
  },
  {
   "cell_type": "code",
   "execution_count": 4,
   "metadata": {},
   "outputs": [
    {
     "data": {
      "text/html": [
       "<div>\n",
       "<style scoped>\n",
       "    .dataframe tbody tr th:only-of-type {\n",
       "        vertical-align: middle;\n",
       "    }\n",
       "\n",
       "    .dataframe tbody tr th {\n",
       "        vertical-align: top;\n",
       "    }\n",
       "\n",
       "    .dataframe thead th {\n",
       "        text-align: right;\n",
       "    }\n",
       "</style>\n",
       "<table border=\"1\" class=\"dataframe\">\n",
       "  <thead>\n",
       "    <tr style=\"text-align: right;\">\n",
       "      <th></th>\n",
       "      <th>Time Steps</th>\n",
       "      <th>Pattern Label</th>\n",
       "      <th>readout_activity</th>\n",
       "    </tr>\n",
       "  </thead>\n",
       "  <tbody>\n",
       "    <tr>\n",
       "      <th>0</th>\n",
       "      <td>0</td>\n",
       "      <td>-1.0</td>\n",
       "      <td>-0.059761</td>\n",
       "    </tr>\n",
       "    <tr>\n",
       "      <th>1</th>\n",
       "      <td>0</td>\n",
       "      <td>-1.0</td>\n",
       "      <td>-0.167215</td>\n",
       "    </tr>\n",
       "    <tr>\n",
       "      <th>2</th>\n",
       "      <td>0</td>\n",
       "      <td>-1.0</td>\n",
       "      <td>0.024042</td>\n",
       "    </tr>\n",
       "    <tr>\n",
       "      <th>3</th>\n",
       "      <td>0</td>\n",
       "      <td>-1.0</td>\n",
       "      <td>-0.093956</td>\n",
       "    </tr>\n",
       "    <tr>\n",
       "      <th>4</th>\n",
       "      <td>0</td>\n",
       "      <td>-1.0</td>\n",
       "      <td>0.241460</td>\n",
       "    </tr>\n",
       "    <tr>\n",
       "      <th>...</th>\n",
       "      <td>...</td>\n",
       "      <td>...</td>\n",
       "      <td>...</td>\n",
       "    </tr>\n",
       "    <tr>\n",
       "      <th>2095</th>\n",
       "      <td>20</td>\n",
       "      <td>1.0</td>\n",
       "      <td>0.909428</td>\n",
       "    </tr>\n",
       "    <tr>\n",
       "      <th>2096</th>\n",
       "      <td>20</td>\n",
       "      <td>1.0</td>\n",
       "      <td>1.070201</td>\n",
       "    </tr>\n",
       "    <tr>\n",
       "      <th>2097</th>\n",
       "      <td>20</td>\n",
       "      <td>1.0</td>\n",
       "      <td>0.998018</td>\n",
       "    </tr>\n",
       "    <tr>\n",
       "      <th>2098</th>\n",
       "      <td>20</td>\n",
       "      <td>1.0</td>\n",
       "      <td>1.154598</td>\n",
       "    </tr>\n",
       "    <tr>\n",
       "      <th>2099</th>\n",
       "      <td>20</td>\n",
       "      <td>1.0</td>\n",
       "      <td>0.746528</td>\n",
       "    </tr>\n",
       "  </tbody>\n",
       "</table>\n",
       "<p>2100 rows × 3 columns</p>\n",
       "</div>"
      ],
      "text/plain": [
       "      Time Steps  Pattern Label  readout_activity\n",
       "0              0           -1.0         -0.059761\n",
       "1              0           -1.0         -0.167215\n",
       "2              0           -1.0          0.024042\n",
       "3              0           -1.0         -0.093956\n",
       "4              0           -1.0          0.241460\n",
       "...          ...            ...               ...\n",
       "2095          20            1.0          0.909428\n",
       "2096          20            1.0          1.070201\n",
       "2097          20            1.0          0.998018\n",
       "2098          20            1.0          1.154598\n",
       "2099          20            1.0          0.746528\n",
       "\n",
       "[2100 rows x 3 columns]"
      ]
     },
     "execution_count": 4,
     "metadata": {},
     "output_type": "execute_result"
    }
   ],
   "source": [
    "r_df"
   ]
  },
  {
   "cell_type": "code",
   "execution_count": 8,
   "metadata": {},
   "outputs": [],
   "source": [
    "fig, axs = plt.subplots(2,3, figsize=(15,10))\n",
    "ax = sns.violinplot(x='Time Steps', y='readout_activity', hue='Pattern Label',\n",
    "                   data=r_df, palette=['r','b'], split=True, inner=\"quartile\", ax=axs[0,1])\n",
    "ax.scatter(np.arange(21), np.random.randn(21)/10+0.5, marker='4', s=500, c='orange')\n",
    "ax.set_xlabel('Time steps (int)', fontsize=15)\n",
    "ax.set_ylabel('Readout activity', fontsize=15)\n",
    "ax.set_title('Readout Activity by pattern type (B+, R-)%s' % ('\\n'+''), fontsize=15)\n",
    "# ax.set_xlim([0,r.shape[0]-1])\n",
    "ax.set_ylim([np.min(r), np.max(r)])\n",
    "ax.set_xticks(np.arange(0,r.shape[0]+1,2))\n",
    "ax.set_xticklabels(np.arange(0,r.shape[0]+1,2))\n",
    "ax.grid(linewidth=0.2)"
   ]
  },
  {
   "cell_type": "code",
   "execution_count": 182,
   "metadata": {},
   "outputs": [
    {
     "data": {
      "text/plain": [
       "array([ 0,  2,  4,  6,  8, 10, 12, 14, 16, 18, 20])"
      ]
     },
     "execution_count": 182,
     "metadata": {},
     "output_type": "execute_result"
    }
   ],
   "source": [
    "np.arange(0,r.shape[0]+1,2)"
   ]
  },
  {
   "cell_type": "code",
   "execution_count": null,
   "metadata": {},
   "outputs": [],
   "source": []
  },
  {
   "cell_type": "code",
   "execution_count": null,
   "metadata": {},
   "outputs": [],
   "source": []
  },
  {
   "cell_type": "code",
   "execution_count": null,
   "metadata": {},
   "outputs": [],
   "source": []
  },
  {
   "cell_type": "code",
   "execution_count": 10,
   "metadata": {},
   "outputs": [],
   "source": [
    "a = {}\n",
    "a[(0.01, 0.0001)] = [np.random.randn(100)]\n",
    "a[(0.02, 0.0001)] = np.random.randn(100)\n",
    "a[(0.02, 0.0001)] = np.random.randn(100)\n",
    "a[0.01] = np.random.randn(100)"
   ]
  },
  {
   "cell_type": "code",
   "execution_count": 12,
   "metadata": {},
   "outputs": [
    {
     "data": {
      "text/plain": [
       "dict_keys([(0.01, 0.0001), (0.02, 0.0001), 0.01])"
      ]
     },
     "execution_count": 12,
     "metadata": {},
     "output_type": "execute_result"
    }
   ],
   "source": [
    "a.keys()"
   ]
  },
  {
   "cell_type": "code",
   "execution_count": 26,
   "metadata": {},
   "outputs": [
    {
     "name": "stdout",
     "output_type": "stream",
     "text": [
      "true\n"
     ]
    }
   ],
   "source": [
    "try: \n",
    "    a[0.01]\n",
    "    print(\"true\")\n",
    "except KeyError:\n",
    "    print(\"false\")"
   ]
  },
  {
   "cell_type": "code",
   "execution_count": 27,
   "metadata": {},
   "outputs": [
    {
     "name": "stdout",
     "output_type": "stream",
     "text": [
      "ala\n"
     ]
    }
   ],
   "source": [
    "a[0.01]\n",
    "print(\"ala\")"
   ]
  },
  {
   "cell_type": "code",
   "execution_count": null,
   "metadata": {},
   "outputs": [],
   "source": []
  },
  {
   "cell_type": "code",
   "execution_count": null,
   "metadata": {},
   "outputs": [],
   "source": []
  },
  {
   "cell_type": "code",
   "execution_count": 4,
   "metadata": {},
   "outputs": [
    {
     "data": {
      "text/plain": [
       "tensor([1., 1., 1., 1., 1., 1., 1., 1., 1., 1.])"
      ]
     },
     "execution_count": 4,
     "metadata": {},
     "output_type": "execute_result"
    }
   ],
   "source": [
    "torch.normal(torch.tensor(1),torch.tensor(1e-17),[10])"
   ]
  },
  {
   "cell_type": "code",
   "execution_count": null,
   "metadata": {},
   "outputs": [],
   "source": []
  },
  {
   "cell_type": "code",
   "execution_count": null,
   "metadata": {},
   "outputs": [],
   "source": []
  },
  {
   "cell_type": "code",
   "execution_count": 89,
   "metadata": {},
   "outputs": [],
   "source": [
    "%autoreload\n",
    "from srnn_helpers import *"
   ]
  },
  {
   "cell_type": "code",
   "execution_count": 98,
   "metadata": {},
   "outputs": [
    {
     "name": "stdout",
     "output_type": "stream",
     "text": [
      "(40, 5)\n"
     ]
    },
    {
     "data": {
      "text/plain": [
       "<matplotlib.collections.PathCollection at 0x7ff9615b6ad0>"
      ]
     },
     "execution_count": 98,
     "metadata": {},
     "output_type": "execute_result"
    }
   ],
   "source": [
    "a = np.random.randn(20,5)\n",
    "b = np.random.randn(20,5) + 10*np.ones(5)\n",
    "c = np.vstack([a,b])\n",
    "print(c.shape)\n",
    "plt.figure()\n",
    "plt.scatter(c[:,0],c[:,1])\n",
    "plt.figure()\n",
    "plt.scatter(c[:,1],c[:,2])\n",
    "\n",
    "pca = PCA(n_components=5)\n",
    "d = pca.fit_transform(c)\n",
    "plt.figure()\n",
    "plt.scatter(d[:,0],d[:,1])\n",
    "plt.figure()\n",
    "plt.scatter(d[:,1],d[:,2])\n"
   ]
  },
  {
   "cell_type": "code",
   "execution_count": null,
   "metadata": {},
   "outputs": [],
   "source": []
  },
  {
   "cell_type": "code",
   "execution_count": null,
   "metadata": {},
   "outputs": [],
   "source": []
  },
  {
   "cell_type": "code",
   "execution_count": null,
   "metadata": {},
   "outputs": [],
   "source": []
  },
  {
   "cell_type": "code",
   "execution_count": null,
   "metadata": {},
   "outputs": [],
   "source": []
  },
  {
   "cell_type": "code",
   "execution_count": 87,
   "metadata": {},
   "outputs": [
    {
     "name": "stdout",
     "output_type": "stream",
     "text": [
      "torch.Size([1])\n",
      "torch.Size([10, 3])\n",
      "tensor([0.1736])\n",
      "tensor([[ 0.0476, -0.2286, -1.1532],\n",
      "        [ 0.0622, -0.2506, -0.6347],\n",
      "        [ 0.4678,  0.6582,  1.1048],\n",
      "        [ 0.8107,  0.3908,  0.8166],\n",
      "        [ 0.3767, -1.4248,  0.7782],\n",
      "        [-0.4910,  1.0994, -0.9384],\n",
      "        [-0.5148,  0.2713,  0.4488],\n",
      "        [-0.1757,  0.9069, -0.3541],\n",
      "        [-0.8433,  1.0702,  1.8454],\n",
      "        [-0.6640, -0.4428, -0.5149]])\n"
     ]
    }
   ],
   "source": [
    "a = torch.randn(1)\n",
    "print(a.shape)\n",
    "b = torch.randn(10,3)\n",
    "print(b.shape)\n",
    "print(a)\n",
    "print(a-b)"
   ]
  },
  {
   "cell_type": "code",
   "execution_count": null,
   "metadata": {},
   "outputs": [],
   "source": []
  },
  {
   "cell_type": "code",
   "execution_count": null,
   "metadata": {},
   "outputs": [],
   "source": []
  },
  {
   "cell_type": "code",
   "execution_count": null,
   "metadata": {},
   "outputs": [],
   "source": []
  },
  {
   "cell_type": "code",
   "execution_count": 77,
   "metadata": {},
   "outputs": [
    {
     "data": {
      "text/plain": [
       "(2, 30)"
      ]
     },
     "execution_count": 77,
     "metadata": {},
     "output_type": "execute_result"
    }
   ],
   "source": [
    "N=30\n",
    "np.array([np.arange(N),np.arange(N)]).shape"
   ]
  },
  {
   "cell_type": "code",
   "execution_count": null,
   "metadata": {},
   "outputs": [],
   "source": []
  },
  {
   "cell_type": "code",
   "execution_count": null,
   "metadata": {},
   "outputs": [],
   "source": []
  },
  {
   "cell_type": "code",
   "execution_count": 69,
   "metadata": {},
   "outputs": [],
   "source": [
    "fig, axs = plt.subplots()\n",
    "axs.plot(np.random.randn(10))\n",
    "plt.show()"
   ]
  },
  {
   "cell_type": "code",
   "execution_count": 74,
   "metadata": {},
   "outputs": [
    {
     "ename": "TypeError",
     "evalue": "_amax_dispatcher() got multiple values for argument 'axis'",
     "output_type": "error",
     "traceback": [
      "\u001b[0;31m---------------------------------------------------------------------------\u001b[0m",
      "\u001b[0;31mTypeError\u001b[0m                                 Traceback (most recent call last)",
      "\u001b[0;32m<ipython-input-74-db461acadbfd>\u001b[0m in \u001b[0;36m<module>\u001b[0;34m\u001b[0m\n\u001b[0;32m----> 1\u001b[0;31m \u001b[0mnp\u001b[0m\u001b[0;34m.\u001b[0m\u001b[0mmax\u001b[0m\u001b[0;34m(\u001b[0m\u001b[0mnp\u001b[0m\u001b[0;34m.\u001b[0m\u001b[0mrandom\u001b[0m\u001b[0;34m.\u001b[0m\u001b[0mrandn\u001b[0m\u001b[0;34m(\u001b[0m\u001b[0;36m20\u001b[0m\u001b[0;34m)\u001b[0m\u001b[0;34m,\u001b[0m\u001b[0;36m0\u001b[0m\u001b[0;34m,\u001b[0m\u001b[0maxis\u001b[0m\u001b[0;34m=\u001b[0m\u001b[0;36m0\u001b[0m\u001b[0;34m)\u001b[0m\u001b[0;34m\u001b[0m\u001b[0;34m\u001b[0m\u001b[0m\n\u001b[0m",
      "\u001b[0;32m<__array_function__ internals>\u001b[0m in \u001b[0;36mamax\u001b[0;34m(*args, **kwargs)\u001b[0m\n",
      "\u001b[0;31mTypeError\u001b[0m: _amax_dispatcher() got multiple values for argument 'axis'"
     ]
    }
   ],
   "source": [
    "np.max(np.random.randn(20))"
   ]
  },
  {
   "cell_type": "code",
   "execution_count": null,
   "metadata": {},
   "outputs": [],
   "source": []
  },
  {
   "cell_type": "code",
   "execution_count": 54,
   "metadata": {},
   "outputs": [
    {
     "name": "stdout",
     "output_type": "stream",
     "text": [
      "[[ 1.  1.  1.  1.  1.  1.  1.  1.]\n",
      " [ 1.  1.  1.  1.  1.  1.  1.  1.]\n",
      " [nan nan nan nan nan nan nan nan]\n",
      " [nan nan nan nan nan nan nan nan]]\n",
      "[1. 1. 1. 1. 1. 1. 1. 1. 1. 1. 1. 1. 1. 1. 1. 1.]\n"
     ]
    }
   ],
   "source": [
    "a = np.zeros([4,8])*np.nan\n",
    "a[:2]=1\n",
    "print(a)\n",
    "print(a[~np.isnan(a)])"
   ]
  },
  {
   "cell_type": "code",
   "execution_count": 55,
   "metadata": {},
   "outputs": [
    {
     "data": {
      "text/plain": [
       "array([[ True,  True,  True,  True,  True,  True,  True,  True],\n",
       "       [ True,  True,  True,  True,  True,  True,  True,  True],\n",
       "       [False, False, False, False, False, False, False, False],\n",
       "       [False, False, False, False, False, False, False, False]])"
      ]
     },
     "execution_count": 55,
     "metadata": {},
     "output_type": "execute_result"
    }
   ],
   "source": [
    "~np.isnan(a)"
   ]
  },
  {
   "cell_type": "code",
   "execution_count": null,
   "metadata": {},
   "outputs": [],
   "source": []
  },
  {
   "cell_type": "code",
   "execution_count": null,
   "metadata": {},
   "outputs": [],
   "source": []
  },
  {
   "cell_type": "code",
   "execution_count": 33,
   "metadata": {},
   "outputs": [],
   "source": [
    "def test_fun(**inp):\n",
    "    \"\"\" test function \"\"\"\n",
    "    return inp['a'] + inp['d']"
   ]
  },
  {
   "cell_type": "code",
   "execution_count": 34,
   "metadata": {},
   "outputs": [
    {
     "name": "stdout",
     "output_type": "stream",
     "text": [
      " test function \n",
      "changed test function\n",
      "5\n"
     ]
    }
   ],
   "source": [
    "print(test_fun.__doc__)\n",
    "test_fun.__doc__ = 'changed test function'\n",
    "print(test_fun.__doc__)\n",
    "print(test_fun(a=1,b=2,c=3,d=4))"
   ]
  },
  {
   "cell_type": "code",
   "execution_count": null,
   "metadata": {},
   "outputs": [],
   "source": []
  },
  {
   "cell_type": "code",
   "execution_count": null,
   "metadata": {},
   "outputs": [],
   "source": []
  },
  {
   "cell_type": "code",
   "execution_count": null,
   "metadata": {},
   "outputs": [],
   "source": []
  },
  {
   "cell_type": "code",
   "execution_count": 44,
   "metadata": {},
   "outputs": [
    {
     "name": "stdout",
     "output_type": "stream",
     "text": [
      "tensor([[-1.4051,  0.1933, -0.5782, -1.0555, -0.5328, -1.5879,  0.3730, -0.5636,\n",
      "          0.1030,  0.9595],\n",
      "        [ 0.7811,  0.6402, -1.1970, -1.1456,  1.1404, -1.1048, -0.1322,  0.9531,\n",
      "         -0.9229, -0.6706]])\n",
      "[[-1  1 -1  1 -1 -1 -1  1 -1  1  1  1  1  1 -1]]\n",
      "torch.Size([2, 10])\n",
      "torch.Size([15, 10])\n",
      "\n",
      "(8,)\n",
      "tensor([[-1.4051,  0.1933, -0.5782, -1.0555, -0.5328, -1.5879,  0.3730, -0.5636,\n",
      "          0.1030,  0.9595],\n",
      "        [-1.4051,  0.1933, -0.5782, -1.0555, -0.5328, -1.5879,  0.3730, -0.5636,\n",
      "          0.1030,  0.9595],\n",
      "        [-1.4051,  0.1933, -0.5782, -1.0555, -0.5328, -1.5879,  0.3730, -0.5636,\n",
      "          0.1030,  0.9595],\n",
      "        [-1.4051,  0.1933, -0.5782, -1.0555, -0.5328, -1.5879,  0.3730, -0.5636,\n",
      "          0.1030,  0.9595],\n",
      "        [-1.4051,  0.1933, -0.5782, -1.0555, -0.5328, -1.5879,  0.3730, -0.5636,\n",
      "          0.1030,  0.9595],\n",
      "        [-1.4051,  0.1933, -0.5782, -1.0555, -0.5328, -1.5879,  0.3730, -0.5636,\n",
      "          0.1030,  0.9595],\n",
      "        [-1.4051,  0.1933, -0.5782, -1.0555, -0.5328, -1.5879,  0.3730, -0.5636,\n",
      "          0.1030,  0.9595],\n",
      "        [-1.4051,  0.1933, -0.5782, -1.0555, -0.5328, -1.5879,  0.3730, -0.5636,\n",
      "          0.1030,  0.9595]])\n"
     ]
    }
   ],
   "source": [
    "P = 15\n",
    "a = torch.randn(2,10)\n",
    "labels = 2 * np.random.randint(0,2,(1,P)) - 1\n",
    "ids_positive_label = np.where(labels==1)[1]\n",
    "ids_negative_label = np.where(labels==-1)[1]\n",
    "b = a[((-labels+1)//2)[0]]\n",
    "print(a)\n",
    "print(labels)\n",
    "print(a.shape)\n",
    "print(b[np.random.permutation(P)[:20]].shape)\n",
    "print()\n",
    "print(ids_positive_label.shape)\n",
    "print(a[np.zeros(ids_positive_label.shape[0])])"
   ]
  },
  {
   "cell_type": "code",
   "execution_count": 46,
   "metadata": {},
   "outputs": [
    {
     "name": "stdout",
     "output_type": "stream",
     "text": [
      "tensor([[ 0.7811,  0.6402, -1.1970, -1.1456,  1.1404, -1.1048, -0.1322,  0.9531,\n",
      "         -0.9229, -0.6706],\n",
      "        [ 0.7811,  0.6402, -1.1970, -1.1456,  1.1404, -1.1048, -0.1322,  0.9531,\n",
      "         -0.9229, -0.6706],\n",
      "        [ 0.7811,  0.6402, -1.1970, -1.1456,  1.1404, -1.1048, -0.1322,  0.9531,\n",
      "         -0.9229, -0.6706],\n",
      "        [ 0.7811,  0.6402, -1.1970, -1.1456,  1.1404, -1.1048, -0.1322,  0.9531,\n",
      "         -0.9229, -0.6706],\n",
      "        [ 0.7811,  0.6402, -1.1970, -1.1456,  1.1404, -1.1048, -0.1322,  0.9531,\n",
      "         -0.9229, -0.6706],\n",
      "        [ 0.7811,  0.6402, -1.1970, -1.1456,  1.1404, -1.1048, -0.1322,  0.9531,\n",
      "         -0.9229, -0.6706],\n",
      "        [ 0.7811,  0.6402, -1.1970, -1.1456,  1.1404, -1.1048, -0.1322,  0.9531,\n",
      "         -0.9229, -0.6706]])\n"
     ]
    }
   ],
   "source": [
    "print(a[np.ones(ids_negative_label.shape[0])])"
   ]
  },
  {
   "cell_type": "code",
   "execution_count": null,
   "metadata": {},
   "outputs": [],
   "source": []
  },
  {
   "cell_type": "code",
   "execution_count": null,
   "metadata": {},
   "outputs": [],
   "source": []
  },
  {
   "cell_type": "code",
   "execution_count": null,
   "metadata": {},
   "outputs": [],
   "source": []
  },
  {
   "cell_type": "code",
   "execution_count": null,
   "metadata": {},
   "outputs": [],
   "source": [
    "a = np.zeros(10)#*np.nan\n",
    "a[:4] = np.random.randn(4)\n",
    "plt.scatter(np.arange(len(a)),a)"
   ]
  },
  {
   "cell_type": "code",
   "execution_count": null,
   "metadata": {},
   "outputs": [],
   "source": [
    "a = torch.randn(3,10)\n",
    "b = a.mean(0)\n",
    "print(a)\n",
    "print(a.shape)\n",
    "print(b)\n",
    "print(b.shape)\n",
    "plt.figure(1)\n",
    "plt.scatter(20-np.arange(len(b)),b,marker='4', s=500, c='green')"
   ]
  },
  {
   "cell_type": "code",
   "execution_count": null,
   "metadata": {},
   "outputs": [],
   "source": []
  },
  {
   "cell_type": "code",
   "execution_count": null,
   "metadata": {},
   "outputs": [],
   "source": []
  },
  {
   "cell_type": "code",
   "execution_count": null,
   "metadata": {},
   "outputs": [],
   "source": [
    "P = 5\n",
    "NT = 3\n",
    "a = torch.randn(NT,P)\n",
    "labels = 2 * np.random.randint(0,2,(1,P)) - 1\n",
    "ids_positive_label = np.where(labels==1)[1]\n",
    "ids_negative_label = np.where(labels==-1)[1]\n",
    "\n",
    "print(a)\n",
    "print(ids_positive_label)\n",
    "print(a[[-1],ids_positive_label])\n",
    "print((torch.tensor(1) - torch.tanh(a[-1,ids_positive_label])).sum() + \\\n",
    "      (torch.tanh(a[-1,ids_negative_label])-torch.tensor(-1)).sum())"
   ]
  },
  {
   "cell_type": "code",
   "execution_count": null,
   "metadata": {},
   "outputs": [],
   "source": [
    "print(a[-1,ids_positive_label])\n",
    "print(a.shape)\n",
    "print(a[-1,ids_positive_label])\n",
    "print(\"test\", a[-5:])"
   ]
  },
  {
   "cell_type": "code",
   "execution_count": null,
   "metadata": {},
   "outputs": [],
   "source": [
    "a.mean(0)[-1].shape == torch.tensor(1).shape"
   ]
  },
  {
   "cell_type": "code",
   "execution_count": null,
   "metadata": {},
   "outputs": [],
   "source": []
  },
  {
   "cell_type": "code",
   "execution_count": null,
   "metadata": {},
   "outputs": [],
   "source": [
    "P = 5\n",
    "NT = 3\n",
    "readout_activity_numpy = np.random.randn(P,NT)\n",
    "labels = 2 * np.random.randint(0,2,(1,P)) - 1\n",
    "\n",
    "thresh = np.percentile(readout_activity_numpy, 100 * (np.sum(labels==-1)/P), axis=0)\n",
    "output_label = 2 * (readout_activity_numpy > thresh) - 1\n",
    "accuracy = 100*np.sum((output_label * labels.T)>0,0)/P\n",
    "\n",
    "print(readout_activity_numpy)\n",
    "print(readout_activity_numpy.shape)\n",
    "print(labels.shape)\n",
    "print(thresh)\n",
    "print(100 * (np.sum(labels==-1)/P))\n",
    "print(thresh.shape)\n",
    "print(output_label)\n",
    "print(output_label.shape)\n",
    "print(output_label * labels.T)\n",
    "print(accuracy)\n",
    "print(np.max(accuracy))"
   ]
  },
  {
   "cell_type": "code",
   "execution_count": null,
   "metadata": {},
   "outputs": [],
   "source": []
  },
  {
   "cell_type": "code",
   "execution_count": null,
   "metadata": {},
   "outputs": [],
   "source": []
  },
  {
   "cell_type": "code",
   "execution_count": null,
   "metadata": {},
   "outputs": [],
   "source": [
    "a = torch.normal(0,10,[3,4])\n",
    "print(a)\n",
    "print(a.requires_grad)\n",
    "a.requires_grad_(True)\n",
    "print(a)\n",
    "print(a.requires_grad)\n",
    "\n",
    "b = torch.rand([3,4])>0.5\n",
    "print(b)\n",
    "print(a*b)\n",
    "\n",
    "c = torch.ones([1,4])\n",
    "c[:,[0,3]] = -1\n",
    "print(c)\n",
    "print(a*c)\n",
    "print(torch.sign(a*c))\n",
    "print(a*torch.sign(a*c))"
   ]
  },
  {
   "cell_type": "code",
   "execution_count": null,
   "metadata": {},
   "outputs": [],
   "source": [
    "c.data.cpu().numpy().shape"
   ]
  },
  {
   "cell_type": "code",
   "execution_count": null,
   "metadata": {},
   "outputs": [],
   "source": [
    "N=3\n",
    "P=4\n",
    "patterns = torch.tensor(2 * np.random.rand(N,P) - 1)\n",
    "labels = 2 * np.random.randint(0,2,(1,P)) - 1\n",
    "\n",
    "print(patterns)\n",
    "print(patterns.T)\n",
    "print(patterns @ patterns.T)\n",
    "print(torch.mm(patterns,patterns.T))\n",
    "print(labels)\n",
    "print(patterns*labels @ patterns.T)"
   ]
  },
  {
   "cell_type": "code",
   "execution_count": null,
   "metadata": {},
   "outputs": [],
   "source": [
    "torch.set_default_tensor_type(torch.DoubleTensor)\n",
    "b0 = np.zeros(21)  # input pulse \n",
    "b0[:10] = 1\n",
    "b = torch.tensor(b0)\n",
    "print(b0)\n",
    "print(b)\n",
    "c = torch.zeros(21, dtype=torch.float32)\n",
    "c[:10]=1\n",
    "print(c)\n",
    "print(c.dtype)"
   ]
  },
  {
   "cell_type": "code",
   "execution_count": null,
   "metadata": {},
   "outputs": [],
   "source": [
    "rtarg0 = np.array([[0.        , 0.01549421, 0.03024185, 0.04414475, 0.05721401,\n",
    "        0.06937062, 0.08062606, 0.09099244, 0.10050713, 0.10932685,\n",
    "        0.09942289, 0.09062364, 0.08274024, 0.07564845, 0.06922923,\n",
    "        0.06345079, 0.05821675, 0.05346545, 0.04914874, 0.0452366 ,\n",
    "        0.04172525],\n",
    "       [0.        , 0.01219308, 0.02369528, 0.03442936, 0.04436093,\n",
    "        0.05349317, 0.06185797, 0.06948947, 0.07623375, 0.08226423,\n",
    "        0.07297895, 0.064946  , 0.05795353, 0.05186845, 0.04657435,\n",
    "        0.04192478, 0.03784535, 0.03426677, 0.0310036 , 0.02813408,\n",
    "        0.02558498]])\n",
    "rtarg = torch.tensor(rtarg0)\n",
    "id_positive = np.where(labels==1)[1]  # ids of the +1 patterns\n",
    "id_negative = np.where(labels==-1)[1]  # ids of the -1 patterns\n",
    "print(id_positive)"
   ]
  },
  {
   "cell_type": "code",
   "execution_count": null,
   "metadata": {},
   "outputs": [],
   "source": [
    "rtarg[((-labels+1)//2)[0]][id_positive]"
   ]
  },
  {
   "cell_type": "code",
   "execution_count": null,
   "metadata": {},
   "outputs": [],
   "source": [
    "def test():\n",
    "    \"\"\"ala bala\"\"\"\n",
    "    print(0)\n",
    "    pass\n"
   ]
  },
  {
   "cell_type": "code",
   "execution_count": null,
   "metadata": {},
   "outputs": [],
   "source": [
    "test.__doc__"
   ]
  },
  {
   "cell_type": "code",
   "execution_count": null,
   "metadata": {},
   "outputs": [],
   "source": [
    "a = np.zeros(4)\n",
    "a[:3] = 1\n",
    "print(a)\n",
    "for i in range(1,len(a)):\n",
    "    print(a[i])"
   ]
  },
  {
   "cell_type": "code",
   "execution_count": null,
   "metadata": {},
   "outputs": [],
   "source": []
  },
  {
   "cell_type": "code",
   "execution_count": null,
   "metadata": {},
   "outputs": [],
   "source": []
  },
  {
   "cell_type": "code",
   "execution_count": null,
   "metadata": {},
   "outputs": [],
   "source": []
  },
  {
   "cell_type": "code",
   "execution_count": null,
   "metadata": {},
   "outputs": [],
   "source": []
  },
  {
   "cell_type": "code",
   "execution_count": null,
   "metadata": {},
   "outputs": [],
   "source": []
  },
  {
   "cell_type": "code",
   "execution_count": null,
   "metadata": {},
   "outputs": [],
   "source": [
    "N=50\n",
    "P=100\n",
    "patterns = 2 * np.random.rand(N,P) - 1\n",
    "labels = 2 * np.random.randint(0,2,(1,P)) - 1"
   ]
  },
  {
   "cell_type": "code",
   "execution_count": null,
   "metadata": {},
   "outputs": [],
   "source": [
    "patterns.shape"
   ]
  },
  {
   "cell_type": "code",
   "execution_count": null,
   "metadata": {},
   "outputs": [],
   "source": [
    "labels.shape"
   ]
  },
  {
   "cell_type": "code",
   "execution_count": null,
   "metadata": {},
   "outputs": [],
   "source": [
    "patterns"
   ]
  },
  {
   "cell_type": "code",
   "execution_count": null,
   "metadata": {},
   "outputs": [],
   "source": [
    "labels"
   ]
  },
  {
   "cell_type": "code",
   "execution_count": null,
   "metadata": {},
   "outputs": [],
   "source": [
    "patterns * labels"
   ]
  },
  {
   "cell_type": "code",
   "execution_count": null,
   "metadata": {},
   "outputs": [],
   "source": [
    "np.where(labels==1)"
   ]
  },
  {
   "cell_type": "code",
   "execution_count": null,
   "metadata": {},
   "outputs": [],
   "source": []
  },
  {
   "cell_type": "code",
   "execution_count": null,
   "metadata": {},
   "outputs": [],
   "source": []
  },
  {
   "cell_type": "code",
   "execution_count": null,
   "metadata": {},
   "outputs": [],
   "source": []
  },
  {
   "cell_type": "code",
   "execution_count": null,
   "metadata": {},
   "outputs": [],
   "source": []
  },
  {
   "cell_type": "code",
   "execution_count": null,
   "metadata": {},
   "outputs": [],
   "source": []
  }
 ],
 "metadata": {
  "kernelspec": {
   "display_name": "Python 3",
   "language": "python",
   "name": "python3"
  },
  "language_info": {
   "codemirror_mode": {
    "name": "ipython",
    "version": 3
   },
   "file_extension": ".py",
   "mimetype": "text/x-python",
   "name": "python",
   "nbconvert_exporter": "python",
   "pygments_lexer": "ipython3",
   "version": "3.7.6"
  }
 },
 "nbformat": 4,
 "nbformat_minor": 2
}
