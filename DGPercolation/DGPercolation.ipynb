{
 "cells": [
  {
   "cell_type": "code",
   "execution_count": 1,
   "metadata": {},
   "outputs": [],
   "source": [
    "%load_ext autoreload\n",
    "%autoreload 2"
   ]
  },
  {
   "cell_type": "code",
   "execution_count": 65,
   "metadata": {},
   "outputs": [],
   "source": [
    "import time\n",
    "import numpy as np\n",
    "import matplotlib.pyplot as plt\n",
    "import matplotlib as mpl\n",
    "from helperDGs import Graph\n",
    "from collections import defaultdict\n",
    "import dill\n",
    "\n",
    "mpl.rcParams['xtick.major.size'] = 20\n",
    "mpl.rcParams['xtick.major.width'] = 4\n",
    "mpl.rcParams['xtick.minor.size'] = 10\n",
    "mpl.rcParams['xtick.minor.width'] = 2\n",
    "\n",
    "mpl.rcParams['ytick.major.size'] = 20\n",
    "mpl.rcParams['ytick.major.width'] = 4\n",
    "mpl.rcParams['ytick.minor.size'] = 10\n",
    "mpl.rcParams['ytick.minor.width'] = 2\n"
   ]
  },
  {
   "cell_type": "code",
   "execution_count": 42,
   "metadata": {},
   "outputs": [],
   "source": [
    "N_trials = 1000\n",
    "Ns = np.array([100, 200, 400])\n",
    "fs = np.arange(0.5, 5+1e-5, 0.1)/100\n",
    "components = defaultdict(list)\n",
    "for i in range(len(Ns)):\n",
    "    for j in range(len(fs)):\n",
    "        for k in range(N_trials):\n",
    "            temp_mask = np.zeros(Ns[i]**2)\n",
    "            temp_mask[np.random.permutation(Ns[i]**2)[:int(fs[j]*Ns[i]**2)]] = 1\n",
    "            us, vs = np.where(temp_mask.reshape(Ns[i], Ns[i]))\n",
    "            g = Graph.createGraph(Ns[i], us, vs)\n",
    "            SCCs = g.findSCCs()\n",
    "            components['%d-%.1f' % (Ns[i], 100*fs[j])].append(np.max([len(x) for x in SCCs]))\n"
   ]
  },
  {
   "cell_type": "code",
   "execution_count": 53,
   "metadata": {},
   "outputs": [],
   "source": [
    "def expected_accuracy(components):\n",
    "    expected_accuracies = defaultdict(list)\n",
    "    for k in components:\n",
    "        N = int(k.split('-')[0])\n",
    "        sparsity = float(k.split('-')[1])\n",
    "        components_sizes = components[k]\n",
    "        available_sizes, counts_sizes = np.unique(components_sizes, return_counts=True)\n",
    "        ks = N - available_sizes\n",
    "        As = (1 - ks * (3*N**2 - 3*N*ks + ks**2)/(2 * N**3))\n",
    "        qs = counts_sizes / len(components_sizes)\n",
    "        expected_accuracies[N].append([sparsity, (As * qs).sum()])\n",
    "    return expected_accuracies"
   ]
  },
  {
   "cell_type": "code",
   "execution_count": 54,
   "metadata": {},
   "outputs": [],
   "source": [
    "EAs = expected_accuracy(components)"
   ]
  },
  {
   "cell_type": "code",
   "execution_count": 61,
   "metadata": {},
   "outputs": [
    {
     "data": {
      "text/plain": [
       "array([0.5, 0.6, 0.7, 0.8, 0.9, 1. , 1.1, 1.2, 1.3, 1.4, 1.5, 1.6, 1.7,\n",
       "       1.8, 1.9, 2. , 2.1, 2.2, 2.3, 2.4, 2.5, 2.6, 2.7, 2.8, 2.9, 3. ,\n",
       "       3.1, 3.2, 3.3, 3.4, 3.5, 3.6, 3.7, 3.8, 3.9, 4. , 4.1, 4.2, 4.3,\n",
       "       4.4, 4.5, 4.6, 4.7, 4.8, 4.9, 5. ])"
      ]
     },
     "execution_count": 61,
     "metadata": {},
     "output_type": "execute_result"
    }
   ],
   "source": [
    "np.array(EAs[100])[:,0]"
   ]
  },
  {
   "cell_type": "code",
   "execution_count": 64,
   "metadata": {},
   "outputs": [
    {
     "name": "stderr",
     "output_type": "stream",
     "text": [
      "No handles with labels found to put in legend.\n"
     ]
    },
    {
     "data": {
      "image/png": "[encoded data removed]",
      "text/plain": [
       "<Figure size 648x432 with 1 Axes>"
      ]
     },
     "metadata": {
      "needs_background": "light"
     },
     "output_type": "display_data"
    }
   ],
   "source": [
    "plt.figure(figsize=(9,6))\n",
    "plt.box(False)\n",
    "\n",
    "\n",
    "plt.plot(np.array(EAs[100])[:,0]/100, np.array(EAs[100])[:,1], '--', color='#1f77b4', linewidth=4)\n",
    "plt.plot(np.array(EAs[200])[:,0]/100, np.array(EAs[200])[:,1], '--', color='#ff7f0e', linewidth=4)\n",
    "plt.plot(np.array(EAs[400])[:,0]/100, np.array(EAs[400])[:,1], '--', color='#2ca02c', linewidth=4)\n",
    "\n",
    "\n",
    "# plt.title('Percolation', fontsize=35)\n",
    "plt.xscale('log')\n",
    "plt.xticks(ticks= [0.005, 0.01, 0.02, 0.04, 0.08], \n",
    "           labels=[0.005, 0.01, 0.02, 0.04, 0.08])\n",
    "plt.xlabel(r'$f$ ', fontsize=25)\n",
    "plt.ylabel('Accuracy', fontsize=25)  # , 500 epochs\n",
    "plt.ylim([0.39,1.01])\n",
    "plt.xticks(fontsize=20)\n",
    "plt.yticks(fontsize=20)\n",
    "plt.legend(fontsize=20)\n",
    "plt.minorticks_off()\n",
    "plt.show()"
   ]
  },
  {
   "cell_type": "code",
   "execution_count": 66,
   "metadata": {},
   "outputs": [],
   "source": [
    "dill.dump(components, open('DGEmpiricalResults.pkl','wb'))"
   ]
  },
  {
   "cell_type": "code",
   "execution_count": null,
   "metadata": {},
   "outputs": [],
   "source": []
  }
 ],
 "metadata": {
  "kernelspec": {
   "display_name": "Python 3",
   "language": "python",
   "name": "python3"
  },
  "language_info": {
   "codemirror_mode": {
    "name": "ipython",
    "version": 3
   },
   "file_extension": ".py",
   "mimetype": "text/x-python",
   "name": "python",
   "nbconvert_exporter": "python",
   "pygments_lexer": "ipython3",
   "version": "3.8.5"
  }
 },
 "nbformat": 4,
 "nbformat_minor": 2
}
